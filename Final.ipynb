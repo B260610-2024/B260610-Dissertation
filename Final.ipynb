{
 "cells": [
  {
   "cell_type": "code",
   "execution_count": null,
   "id": "8cfa9446-3d31-4d34-b918-24d14782a346",
   "metadata": {},
   "outputs": [],
   "source": [
    "import numpy as np\n",
    "import pandas as pd\n",
    "import scanpy as sc \n",
    "import squidpy as sq\n",
    "import glob\n",
    "import gc\n",
    "import gseapy as gp\n",
    "from gseapy.parser import read_gmt\n",
    "import seaborn as sns\n",
    "import matplotlib.pyplot as plt\n",
    "from pyscenic.aucell import aucell, derive_auc_threshold, create_rankings, GeneSignature\n",
    "from sklearn import preprocessing\n",
    "from sklearn.decomposition import PCA\n",
    "from sklearn.preprocessing import StandardScaler\n",
    "from scipy.stats import zscore\n",
    "import statsmodels.formula.api as smf\n",
    "from statsmodels.stats.multitest import multipletests\n",
    "from matplotlib_venn import venn2\n",
    "from omnipath.interactions import import_intercell_network"
   ]
  },
  {
   "cell_type": "code",
   "execution_count": null,
   "id": "061809f4-347c-4faa-b8c6-c326f6841ebf",
   "metadata": {},
   "outputs": [],
   "source": [
    "adata = sc.read_h5ad(\"new_data.h5ad\")"
   ]
  },
  {
   "cell_type": "markdown",
   "id": "1c344647-4677-4028-b74d-3110c3040d03",
   "metadata": {},
   "source": [
    "### QC metrics demonstrate appropriate filtering of low-quality cells"
   ]
  },
  {
   "cell_type": "code",
   "execution_count": null,
   "id": "05ca75da-7dda-44b3-840c-839ef1a86396",
   "metadata": {},
   "outputs": [],
   "source": [
    "### Overall QC metrics of the spatial transcriptomics dataset\n",
    "\n",
    "sns.set(style=\"whitegrid\")\n",
    "fig, axs = plt.subplots(1, 2, figsize=(15, 4))\n",
    "\n",
    "axs[0].set_title(\"Total transcripts per cell\")\n",
    "axs[0].set_ylabel(\"Cell count\")\n",
    "sns.histplot(\n",
    "    adata.obs[\"total_counts\"],\n",
    "    kde=False,\n",
    "    ax=axs[0],\n",
    ")\n",
    "\n",
    "axs[1].set_title(\"Unique transcripts per cell\")\n",
    "axs[1].set_ylabel(\"Cell count\")\n",
    "sns.histplot(\n",
    "    adata.obs[\"n_genes_by_counts\"],\n",
    "    kde=False,\n",
    "    ax=axs[1],\n",
    ")\n",
    "\n",
    ")\n",
    "plt.tight_layout()\n",
    "plt.savefig(\"new_plots_copy/QC_metrics.png\",bbox_inches=\"tight\")\n",
    "plt.close()\n"
   ]
  },
  {
   "cell_type": "code",
   "execution_count": null,
   "id": "67b8d871-c929-4d1b-b1de-d48df8ae2a72",
   "metadata": {},
   "outputs": [],
   "source": [
    "### Comparison of QC metrics between obstructed and unobstructed tissues\n",
    "\n",
    "fig, axs = plt.subplots(1, 2, figsize=(15, 4))\n",
    "\n",
    "# (1) Total transcripts per cell\n",
    "axs[0].set_title(\"Total transcripts per cell\")\n",
    "axs[0].set_ylabel(\"Cell count\")\n",
    "sns.histplot(\n",
    "    data=adata.obs,\n",
    "    x=\"total_counts\",\n",
    "    hue=\"obstructed\",        \n",
    "    kde=False,\n",
    "    element=\"step\",      \n",
    "    stat=\"count\",\n",
    "    common_norm=False,\n",
    "    ax=axs[0],\n",
    "    alpha=0.5\n",
    ")\n",
    "\n",
    "# (2) Unique transcripts per cell\n",
    "axs[1].set_title(\"Unique transcripts per cell\")\n",
    "axs[1].set_ylabel(\"Cell count\")\n",
    "sns.histplot(\n",
    "    data=adata.obs,\n",
    "    x=\"n_genes_by_counts\",\n",
    "    hue=\"obstructed\",\n",
    "    kde=False,\n",
    "    element=\"step\",\n",
    "    stat=\"count\",\n",
    "    common_norm=False,\n",
    "    ax=axs[1],\n",
    "    alpha=0.5\n",
    ")\n",
    "\n",
    "plt.tight_layout()\n",
    "plt.savefig(\"QC_metrics_by_group.png\",bbox_inches=\"tight\")\n",
    "plt.close()"
   ]
  },
  {
   "cell_type": "markdown",
   "id": "c167691a-3a4f-40f3-817b-00da9a5cc799",
   "metadata": {},
   "source": [
    "## Scoring framework (gene sets and methods, benchmarking)"
   ]
  },
  {
   "cell_type": "markdown",
   "id": "f868a953-d583-4a62-9aa0-191b3a99dd40",
   "metadata": {},
   "source": [
    "### 1 Gene set selection for senescence scoring"
   ]
  },
  {
   "cell_type": "code",
   "execution_count": null,
   "id": "da7899c8-9190-4e7a-b91e-63e5dbdb7bfa",
   "metadata": {},
   "outputs": [],
   "source": [
    "martin_sen_genes = [\"CDKN1A\", \"TRIO\", \"NEAT1\", \"MAP3K20\", \"ITGB4\", \"CLDN4\", \"EZR\", \"CREB5\", \"FOSL2\",\n",
    "                    \"CTNNA1\", \"FAM171A1\", \"EXOC4\", \"SMURF1\", \"ARAP2\", \"CACNA2D3\",\n",
    "                    \"OSBPL3\", \"ST3GAL1\", \"AFAP1\", \"KLF4\", \"PLXNA1\", \"JUNB\", \"RHOB\", \"EMP2\", \"ATF3\", \n",
    "                    \"PDGFA\", \"SRD5A1\", \"SVIL\", \"BCR\", \"SPINT2\", \"RUNX1\", \"SH3D19\", \"SMAD2\", \"KIF13B\",\n",
    "                    \"SRSF3\", \"MYH14\", \"HOXB9\", \"MYO9A\", \"NT5C2\", \"PDCD6IP\", \"ITGA3\", \"PARP8\", \n",
    "                    \"ARPC2\", \"CTSL\", \"ADSS\", \"TGIF1\", \"PLEKHA2\", \"ACTB\", \"ZMAT3\", \"GRIP1\", \"GPRC5A\", \n",
    "                    \"NFIB\", \"PICALM\", \"SYNE2\", \"PPP2R2A\", \"BTBD7\", \"LMNA\", \"YWHAQ\", \"DNAJC5\"]\n",
    "all_genesets = read_gmt(\"all_genesets.gmt\")\n",
    "all_genesets[\"martin_sen\"] = martin_sen_genes"
   ]
  },
  {
   "cell_type": "markdown",
   "id": "f506b765-48e2-4fc1-ad33-3c19bef96cc0",
   "metadata": {},
   "source": [
    "### 2 Senescence scoring methods"
   ]
  },
  {
   "cell_type": "code",
   "execution_count": null,
   "id": "9f4a9409-531a-49f0-8b28-031ab37d6421",
   "metadata": {},
   "outputs": [],
   "source": [
    "# Select the epithelial cells\n",
    "epithelial_cells = adata[adata.obs[\"broad_celltype\"].isin([\"Collecting duct\", \"Distal tubule\", \"PT\", \"TAL/LoH\"])]"
   ]
  },
  {
   "cell_type": "code",
   "execution_count": null,
   "id": "3e29b19f-fe26-4eaa-a3e8-4e9e19ec9f08",
   "metadata": {},
   "outputs": [],
   "source": [
    "#genesets lists\n",
    "gene_sets = ['seneQuest_kidney', 'FRIDMAN_SENESCENCE_UP', 'KEGG_CELL_CYCLE', \n",
    "             'REACTOME_SASP', 'Reck_kidney_inflam', 'sen_mayo','martin_sen']"
   ]
  },
  {
   "cell_type": "markdown",
   "id": "190724ce-52f2-44db-8c65-58d8b95e94c4",
   "metadata": {},
   "source": [
    "#### ssGSEA"
   ]
  },
  {
   "cell_type": "code",
   "execution_count": null,
   "id": "69fae82d-1291-4c5b-a6d3-8700fa76d586",
   "metadata": {},
   "outputs": [],
   "source": [
    "tissues = epithelial_cells.obs[\"source\"].unique()\n",
    "# loop for gene sets\n",
    "for set_name, gene_lists in all_genesets.items():\n",
    "    print(f\"Running Gene Set: {set_name}\")\n",
    "\n",
    "    # loop for each tissue\n",
    "    for tissue in tissues:\n",
    "        print(f\"Running ssGSEA for {tissue}\")\n",
    "\n",
    "        subset = epithelial_cells[epithelial_cells.obs[\"source\"] == tissue].copy()\n",
    "        sub_geneset = {set_name: gene_lists}\n",
    "        exp_df=subset.to_df().T\n",
    "\n",
    "        ss = gp.ssgsea(data=exp_df,\n",
    "               gene_sets=sub_geneset,\n",
    "               outdir=None,\n",
    "               sample_norm_method='rank',\n",
    "               no_plot=True)\n",
    "\n",
    "        ss_df = ss.res2d.pivot(index=\"Name\", columns=\"Term\", values=\"NES\")\n",
    "        ss_df.index.name = \"cell_id\"\n",
    "        ss_df[\"source\"] = tissue\n",
    "        ss_df[\"gene_set\"] = set_name\n",
    "       \n",
    "        ss_df.to_csv(f\"new_copy/new_ssgsea_{set_name}_{tissue}.csv\")\n",
    "        \n",
    "        del subset, ss, ss_df, sub_geneset\n",
    "        gc.collect()"
   ]
  },
  {
   "cell_type": "code",
   "execution_count": null,
   "id": "947d2316-0e94-4475-9c22-d8c490c3fde9",
   "metadata": {},
   "outputs": [],
   "source": [
    "# Make sure the index is string format\n",
    "epithelial_cells.obs.index = epithelial_cells.obs.index.astype(str)\n",
    "\n",
    "for gene_set in gene_sets:\n",
    "    print(f\"Processing {gene_set}\")\n",
    "    score_col_name = f\"ssGSEA_{gene_set}_scores\"\n",
    "\n",
    "    # Search for the result files of all tissues\n",
    "    file_list = glob.glob(f\"new_copy/new_ssgsea_{gene_set}_*.csv\")\n",
    "\n",
    "    df_list = []\n",
    "    for file in file_list:\n",
    "        df = pd.read_csv(file)\n",
    "        df = df[[\"cell_id\", gene_set]]\n",
    "        df.rename(columns={gene_set: score_col_name}, inplace=True)\n",
    "        df.set_index(\"cell_id\", inplace=True)\n",
    "        df.index = df.index.astype(str)\n",
    "        df_list.append(df)\n",
    "\n",
    "    # Merge\n",
    "    merged_df = pd.concat(df_list)\n",
    "    merged_df = merged_df[~merged_df.index.duplicated(keep=\"first\")]\n",
    "\n",
    "    # Merge into epithelial_cells.obs\n",
    "    epithelial_cells.obs = epithelial_cells.obs.join(merged_df, how=\"left\")"
   ]
  },
  {
   "cell_type": "markdown",
   "id": "0647d5f0-bfc4-4d8e-b0d5-38b3fc93e559",
   "metadata": {},
   "source": [
    "#### AUCell"
   ]
  },
  {
   "cell_type": "code",
   "execution_count": null,
   "id": "527fa4ea-3ba0-44f4-b2c8-d0e1915c53c3",
   "metadata": {},
   "outputs": [],
   "source": [
    "tissues = epithelial_cells.obs[\"source\"].unique()\n",
    "\n",
    "# loop for gene sets\n",
    "for set_name, gene_list in all_genesets.items():\n",
    "    # create GeneSignature object\n",
    "    gene2weight = {gene: 1.0 for gene in gene_list if gene in epithelial_cells.var_names}\n",
    "    signature = GeneSignature(set_name, gene2weight)\n",
    "\n",
    "    # loop for each tissue\n",
    "    for tissue in tissues:\n",
    "        print(f\"\\n Running AUCell:Gene Set={set_name}, Tissue={tissue}\")\n",
    "\n",
    "        # Extract the subset\n",
    "        subset = epithelial_cells[epithelial_cells.obs[\"source\"] == tissue].copy()\n",
    "        exp_array = subset.layers[\"raw_counts\"]\n",
    "        exp_df = pd.DataFrame.sparse.from_spmatrix(exp_array, \n",
    "                              columns=subset.var_names, \n",
    "                              index=subset.obs_names)\n",
    "        # Create a ranking object\n",
    "        rankings = create_rankings(exp_df)\n",
    "\n",
    "        # the AUCell score\n",
    "        auc_mtx = aucell(rankings, [signature])\n",
    "        auc_mtx.index.name = \"cell_id\"\n",
    "        auc_mtx[\"source\"] = tissue\n",
    "        auc_mtx[\"gene_set\"] = set_name\n",
    "\n",
    "        # save\n",
    "        auc_mtx.to_csv(f\"new_copy/aucell_scores_{set_name}_{tissue}.csv\")\n",
    "\n",
    "        # memory Clear\n",
    "        del subset, exp_array, exp_df, rankings, auc_mtx\n",
    "        gc.collect()"
   ]
  },
  {
   "cell_type": "code",
   "execution_count": null,
   "id": "020f4be2-8555-404e-a652-5df121901be4",
   "metadata": {},
   "outputs": [],
   "source": [
    "# Make sure the index is string format\n",
    "epithelial_cells.obs.index = epithelial_cells.obs.index.astype(str)\n",
    "\n",
    "for gene_set in gene_sets:\n",
    "    print(f\"Processing {gene_set}\")\n",
    "    score_col_name = f\"AUCell_{gene_set}_scores\"\n",
    "\n",
    "    # Search for the result files\n",
    "    files = glob.glob(f\"new_copy/aucell_scores_{gene_set}_*.csv\")\n",
    "\n",
    "    df_list = []\n",
    "    for file in files:\n",
    "        df = pd.read_csv(file)\n",
    "        df = df[[\"cell_id\", gene_set]]\n",
    "        df.rename(columns={gene_set: score_col_name}, inplace=True)\n",
    "        df.set_index(\"cell_id\", inplace=True)\n",
    "        df.index = df.index.astype(str)\n",
    "        df_list.append(df)\n",
    "\n",
    "    # merge\n",
    "    merged_df = pd.concat(df_list)\n",
    "    merged_df = merged_df[~merged_df.index.duplicated(keep=\"first\")]\n",
    "\n",
    "    # Merge into .obs\n",
    "    epithelial_cells.obs = epithelial_cells.obs.join(merged_df, how=\"left\")"
   ]
  },
  {
   "cell_type": "markdown",
   "id": "d510f75f-b875-4850-bf49-27930754ab35",
   "metadata": {},
   "source": [
    "#### Scanpy"
   ]
  },
  {
   "cell_type": "code",
   "execution_count": null,
   "id": "f56d048c-2752-4ff0-ac4b-8d06273cd0c5",
   "metadata": {},
   "outputs": [],
   "source": [
    "# loop for each gene set\n",
    "for set_name, gene_list in all_genesets.items():\n",
    "    # Filter out vaild genes\n",
    "    valid_genes = [g for g in gene_list if g in epithelial_cells.var_names]\n",
    "\n",
    "    score_column = f\"Scanpy_{set_name}_scores\"\n",
    "\n",
    "    sc.tl.score_genes(\n",
    "        epithelial_cells,\n",
    "        gene_list=valid_genes,\n",
    "        score_name=score_column,\n",
    "        use_raw=False)\n",
    "    \n",
    "    print(f\"{score_column} added ({len(valid_genes)} genes)\")"
   ]
  },
  {
   "cell_type": "markdown",
   "id": "aa7a84be-4531-41f4-ad25-be3b184f9655",
   "metadata": {},
   "source": [
    "#### Martin's"
   ]
  },
  {
   "cell_type": "code",
   "execution_count": null,
   "id": "1d943926-6bb7-434d-b489-3b2070fa28c6",
   "metadata": {},
   "outputs": [],
   "source": [
    "# expression matrix (cells × genes)\n",
    "df_all = epithelial_cells.to_df()\n",
    "\n",
    "# loop for each gene set\n",
    "for set_name, gene_list in all_genesets.items():\n",
    "    # Filter out vaild genes\n",
    "    valid_genes = [g for g in gene_list if g in epithelial_cells.var_names]\n",
    "\n",
    "    # scale the expression\n",
    "    df_subset = df_all[valid_genes].copy()\n",
    "    scaler = preprocessing.MinMaxScaler()\n",
    "    df_subset[valid_genes] = scaler.fit_transform(df_subset)\n",
    "\n",
    "    # sum as the score\n",
    "    epithelial_cells.obs[f\"Martin_{set_name}_scores\"] = df_subset.sum(axis=1)\n",
    "\n",
    "    print(f\"{set_name} score added: {len(valid_genes)} genes\")"
   ]
  },
  {
   "cell_type": "markdown",
   "id": "d5f5d3a5-6d7d-438e-91da-928674d97031",
   "metadata": {},
   "source": [
    "### Violin plot and histogram for each scpring method in each tissue"
   ]
  },
  {
   "cell_type": "code",
   "execution_count": null,
   "id": "ee7ba749-c0be-4248-b51a-9bafc352011b",
   "metadata": {},
   "outputs": [],
   "source": [
    "scoring_methods = [\"ssGSEA\",\"AUCell\",\"Martin\",\"Scanpy\"]"
   ]
  },
  {
   "cell_type": "code",
   "execution_count": null,
   "id": "b5cc5d4f-b4ba-4034-ba60-980394693980",
   "metadata": {},
   "outputs": [],
   "source": [
    "for method in scoring_methods:\n",
    "    for gene_set in all_genesets:\n",
    "\n",
    "        score_col = f\"{method}_{gene_set}_scores\"\n",
    "\n",
    "        plt.figure(figsize=(12, 5))\n",
    "\n",
    "        # Violin plot by tissue\n",
    "        plt.subplot(1, 2, 1)\n",
    "        sns.violinplot(\n",
    "            data=epithelial_cells.obs,\n",
    "            x=\"source\",\n",
    "            y=score_col,\n",
    "            hue=\"obstructed\",\n",
    "            cut=0)\n",
    "        plt.title(f\"Violin plot of {score_col}\")\n",
    "        plt.xticks(rotation=45)\n",
    "        plt.legend(title=\"Obstruction\", loc=\"upper right\")\n",
    "\n",
    "        # Histogram (overall score distribution)\n",
    "        plt.subplot(1, 2, 2)\n",
    "        sns.histplot(\n",
    "            data=epithelial_cells.obs,\n",
    "            x=score_col,\n",
    "            hue=\"obstructed\",\n",
    "            kde=True,\n",
    "            element=\"step\",\n",
    "            stat=\"density\", \n",
    "            common_norm=False )\n",
    "        plt.title(f\"Histogram of {score_col}\")\n",
    "        plt.xlabel(score_col)\n",
    "\n",
    "        plt.tight_layout()\n",
    "        plt.savefig(f\"new_plots_copy/{score_col}.png\")\n",
    "        plt.close()"
   ]
  },
  {
   "cell_type": "markdown",
   "id": "a0df57c6-386a-41f2-9011-d3d9d58d0973",
   "metadata": {},
   "source": [
    "#### statistical test"
   ]
  },
  {
   "cell_type": "code",
   "execution_count": null,
   "id": "2385c62a-202e-4076-8e47-684806897067",
   "metadata": {},
   "outputs": [],
   "source": [
    "score_cols = [\n",
    "    'ssGSEA_FRIDMAN_SENESCENCE_UP_scores',\n",
    "    'ssGSEA_REACTOME_SASP_scores',\n",
    "    'ssGSEA_sen_mayo_scores']"
   ]
  },
  {
   "cell_type": "code",
   "execution_count": null,
   "id": "ed9881c0-d1dc-451a-bfba-4c9df9c02e17",
   "metadata": {},
   "outputs": [],
   "source": [
    "# permutation test\n",
    "res_list = []\n",
    "\n",
    "for sc in score_cols:\n",
    "    #take the median as the representative value\n",
    "     agg = (\n",
    "        df.groupby(tissue_col)[sc]\n",
    "          .median()\n",
    "          .rename('score_median')\n",
    "          .reset_index()\n",
    "        .merge(tissue_group[[tissue_col, 'Group_at_tissue']], on=tissue_col, how='left')\n",
    "    )\n",
    "    # grouping\n",
    "    labels = agg['Group_at_tissue'].astype(str).str.lower()\n",
    "    # obstructed\n",
    "    g1 = agg.loc[labels.eq(\"obstructed\"), 'score_median'].to_numpy() \n",
    "    # unobstructed\n",
    "    g0 = agg.loc[~labels.eq(\"obstructed\"), 'score_median'].to_numpy()\n",
    "   \n",
    "    # mean difference between groups\n",
    "    obs_diff = g1.mean() - g0.mean()\n",
    "    mwu_p = stats.mannwhitneyu(g1, g0, alternative='two-sided').pvalue\n",
    "\n",
    "\n",
    "    #permutation test\n",
    "    x = agg['score_median'].to_numpy()\n",
    "    n1 = g1.size\n",
    "    n = x.size\n",
    "    rng = np.random.default_rng(0)\n",
    "\n",
    "    B = 100000\n",
    "    cnt = 0\n",
    "    for _ in range(B):\n",
    "        idx = rng.permutation(n)\n",
    "        diff = x[idx[:n1]].mean() - x[idx[n1:]].mean()\n",
    "        if abs(diff) >= abs(obs_diff):\n",
    "                cnt += 1\n",
    "            p_perm = (cnt + 1) / (B + 1)\n",
    "\n",
    "    res_list.append({\n",
    "        \"score\": sc,\n",
    "        \"mean_diff_ob_minus_un\":float(obs_diff),\n",
    "        \"MWU_p\":float(mwu_p),\n",
    "        \"perm_p\": float(p_perm),\n",
    "    })\n",
    "\n",
    "pd.DataFrame(res_list)"
   ]
  },
  {
   "cell_type": "code",
   "execution_count": null,
   "id": "cd54bd6a-c21e-496b-aadb-cf920c6a5de5",
   "metadata": {},
   "outputs": [],
   "source": [
    "# OLS with tissue-clustered standard errors\n",
    "rows=[]\n",
    "for sc in score_cols:\n",
    "    mod = smf.ols(f\"{sc} ~ C({group_col})\", data=df).fit(\n",
    "        cov_type=\"cluster\", \n",
    "        cov_kwds={\"groups\": df[tissue_col], \"use_correction\": True}\n",
    "    )\n",
    "    \n",
    "    name = [i for i in mod.params.index if i.startswith(f\"C({group_col})\")][0]\n",
    "    rows.append({\n",
    "        \"score\": sc,\n",
    "        \"beta\": mod.params[name], \"se\": mod.bse[name], \"p\": mod.pvalues[name],\n",
    "        \"ci_low\": mod.conf_int().loc[name,0], \"ci_high\": mod.conf_int().loc[name,1],\n",
    "        \"method\": \"OLS + cluster-robust by tissue\"\n",
    "    })\n",
    "\n",
    "out = pd.DataFrame(rows)\n",
    "out[\"p_adj_fdr\"] = multipletests(out[\"p\"], method=\"fdr_bh\")[1]\n",
    "\n",
    "print(out)\n"
   ]
  },
  {
   "cell_type": "markdown",
   "id": "97d7539f-e47d-4ae3-983a-2345547f5055",
   "metadata": {},
   "source": [
    "### Thresholding and classification of senescent cells"
   ]
  },
  {
   "cell_type": "code",
   "execution_count": null,
   "id": "b01405bb-5efe-4fe9-a7fb-dc777bc9dde0",
   "metadata": {},
   "outputs": [],
   "source": [
    "# choosing by manual\n",
    "score = {\n",
    "    \"SASP\": \"ssGSEA_REACTOME_SASP_scores\",\n",
    "    \"Mayo\": \"ssGSEA_sen_mayo_scores\",\n",
    "    \"Friman\": \"ssGSEA_FRIDMAN_SENESCENCE_UP_scores\"}"
   ]
  },
  {
   "cell_type": "code",
   "execution_count": null,
   "id": "06646c24-9271-4acf-8a61-5136c098e710",
   "metadata": {},
   "outputs": [],
   "source": [
    "# loop for all method\n",
    "for label, score_col in score.items():\n",
    "    \n",
    "    # grouping extraction\n",
    "    unobstructed = epithelial_cells.obs[epithelial_cells.obs[\"obstructed\"] == \"Unobstructed\"]\n",
    "    obstructed = epithelial_cells.obs[epithelial_cells.obs[\"obstructed\"] == \"Obstructed\"]\n",
    "    \n",
    "    # cutoff：unobstructed -98% \n",
    "    cutoff = unobstructed[score_col].quantile(0.98)\n",
    "    \n",
    "    # Label obstructed cells: True - senescent\n",
    "    senescent_label = (epithelial_cells.obs[score_col] > cutoff)\n",
    "    epithelial_cells.obs[f\"senescent_{label}\"] = senescent_label\n",
    "    \n",
    "    # plot + cutoff\n",
    "    plt.figure(figsize=(7, 4))\n",
    "    sns.histplot(\n",
    "        unobstructed[score_col], bins=50, kde=True, \n",
    "        label=\"Unobstructed\", \n",
    "        color=\"orange\" )\n",
    "    sns.histplot(\n",
    "        obstructed[score_col], bins=50, kde=True, \n",
    "        label=\"Obstructed\", \n",
    "        color=\"blue\")\n",
    "    \n",
    "    # cutoff line\n",
    "    plt.axvline(cutoff, color='black', linestyle='--')\n",
    "    plt.text(cutoff, plt.ylim()[1]*0.9, f\"Cutoff = {cutoff:.2f}\", ha='left')\n",
    "    plt.xlabel(\"Senescence Score\")\n",
    "    plt.ylabel(\"Cell Count\")\n",
    "    plt.title(f\"Threshold-Based Classification of Senescent Cells\")\n",
    "    plt.legend()\n",
    "    plt.tight_layout()\n",
    "    plt.savefig(f\"new_plots_copy/Threshold/{score_col}_Threshold.png\")\n",
    "    plt.close()\n",
    "\n",
    "    #  Welch’s t-test\n",
    "    stat, p = ttest_ind(\n",
    "    obstructed[score_col].dropna(), \n",
    "    unobstructed[score_col].dropna(), \n",
    "    equal_var=False)\n",
    "    print(f\"T-test (Welch): t = {stat:.2f}, p-value = {p:.3e}\")\n",
    "\n",
    "    stat, p = mannwhitneyu(\n",
    "    obstructed[score_col].dropna(), \n",
    "    unobstructed[score_col].dropna(), \n",
    "    alternative=\"two-sided\" )\n",
    "    print(f\"Mann-Whitney U test: U = {stat:.2f}, p = {p:.3e}\")"
   ]
  },
  {
   "cell_type": "markdown",
   "id": "0a1724d4-efea-4a7f-aa3f-81a15bc7fdb6",
   "metadata": {},
   "source": [
    "#### Composite Senescence Score"
   ]
  },
  {
   "cell_type": "code",
   "execution_count": null,
   "id": "08323d29-1217-4a16-86c3-ba89d0299dd0",
   "metadata": {},
   "outputs": [],
   "source": [
    "# Standardisation\n",
    "fridman_z = zscore(epithelial_cells.obs[\"ssGSEA_FRIDMAN_SENESCENCE_UP_scores\"])\n",
    "mayo_z = zscore(epithelial_cells.obs[\"ssGSEA_sen_mayo_scores\"])\n",
    "\n",
    "# averaging Z-scores\n",
    "epithelial_cells.obs[\"senescence_combined_scores\"] = (fridman_z + mayo_z) / 2"
   ]
  },
  {
   "cell_type": "code",
   "execution_count": null,
   "id": "cfbb4d29-3eea-40c4-ac50-b60917b37b6e",
   "metadata": {},
   "outputs": [],
   "source": [
    "# calculate cutoff（Unobstructed- top 2%）\n",
    "cutoff = epithelial_cells.obs.loc[\n",
    "    epithelial_cells.obs[\"obstructed\"] == \"Unobstructed\",\n",
    "    \"senescence_combined_scores\"].quantile(0.98)\n",
    "\n",
    "epithelial_cells.obs[\"senescent_final_scores_all\"] = (\n",
    "    epithelial_cells.obs[\"senescence_combined_scores\"] > cutoff\n",
    ")\n",
    "\n",
    "plt.figure(figsize=(7, 4))\n",
    "sns.histplot(\n",
    "    epithelial_cells.obs.loc[epithelial_cells.obs[\"obstructed\"] == \"Unobstructed\",\"senescence_combined_scores\"],\n",
    "    bins=50, \n",
    "    kde=True, \n",
    "    label=\"Unobstructed\", \n",
    "    alpha=0.6\n",
    ")\n",
    "sns.histplot(\n",
    "    epithelial_cells.obs.loc[epithelial_cells.obs[\"obstructed\"] == \"Obstructed\",\"senescence_combined_scores\"],\n",
    "    bins=50, kde=True, label=\"Obstructed\",\n",
    "    alpha=0.6\n",
    ")\n",
    "plt.axvline(cutoff, color='black', linestyle='--', label=f\"Cutoff = {cutoff:.2f}\")\n",
    "plt.title(\"Combined Senescence Scores Distribution (Fridman + Mayo)\")\n",
    "plt.xlabel(\"Composite Z-score\")\n",
    "plt.ylabel(\"Cell Count\")\n",
    "plt.legend()\n",
    "plt.tight_layout()\n",
    "plt.savefig(f\"new_plots/senescent_final_scores.png\", dpi=300)\n",
    "plt.close()\n",
    "\n",
    "# 不用筛选 senescent_final_scores\n",
    "scores_ob = epithelial_cells.obs.loc[epithelial_cells.obs[\"obstructed\"] == \"Obstructed\", \"senescence_combined_scores\"]\n",
    "scores_un = epithelial_cells.obs.loc[epithelial_cells.obs[\"obstructed\"] == \"Unobstructed\", \"senescence_combined_scores\"]\n"
   ]
  },
  {
   "cell_type": "markdown",
   "id": "e2ea71d7-43a5-46fc-bd57-a6d33286af99",
   "metadata": {},
   "source": [
    "### Validation of classification comparing with p21 expression"
   ]
  },
  {
   "cell_type": "code",
   "execution_count": null,
   "id": "5be7b16e-4c58-4fc4-a238-e5eb2b293be7",
   "metadata": {},
   "outputs": [],
   "source": [
    "# he positive threshold of p21\n",
    "epithelial_cells.obs[\"p21_positive\"] = epithelial_cells.to_df()[\"CDKN1A\"] > 0\n",
    "\n",
    "summary = (\n",
    "    epithelial_cells.obs\n",
    "    .groupby(\"source\")\n",
    "    .apply(lambda df: pd.Series({\n",
    "        \"Senescent cells\": df[\"senescent_final_scores_all\"].sum(),\n",
    "        \"p21+ cells\": df[\"p21_positive\"].sum(),\n",
    "        \"Overlap\": ((df[\"senescent_final_scores_all\"]) & (df[\"p21_positive\"])).sum()\n",
    "    }))\n",
    "    .reset_index()\n",
    ")\n",
    "\n",
    "# proportion\n",
    "summary[\"Total cells\"] = epithelial_cells.obs.groupby(\"source\").size().values\n",
    "summary[\"% p21+\"] = (summary[\"p21+ cells\"] / summary[\"Total cells\"] * 100).round(2)\n",
    "summary[\"% Senescent\"] = (summary[\"Senescent cells\"] / summary[\"Total cells\"] * 100).round(2)\n",
    "\n",
    "# sort by tissue\n",
    "summary = summary.sort_values(\"source\")\n",
    "\n",
    "summary.to_csv(\"new_copy/senescent_vs_p21_by_tissue.csv\", index=False)"
   ]
  },
  {
   "cell_type": "code",
   "execution_count": null,
   "id": "d77e377b-086e-495f-8424-abcc8198f982",
   "metadata": {},
   "outputs": [],
   "source": [
    "### Venn\n",
    "p21_positive = set(epithelial_cells[epithelial_cells.obs[\"p21_positive\"]].obs_names)\n",
    "score_positive = set(epithelial_cells[epithelial_cells.obs[\"senescent_final_scores_all\"]].obs_names)\n",
    "\n",
    "venn2([set(p21_positive), set(score_positive)],\n",
    "      set_labels=(\"p21-positive\", \"Composite score-positive\"))\n",
    "\n",
    "plt.savefig(\"new_plots_copy/veen.png\")"
   ]
  },
  {
   "cell_type": "markdown",
   "id": "c8d6feb1-d98b-4e60-8ad8-75d4bb1b9651",
   "metadata": {},
   "source": [
    "###  Morphological PCA"
   ]
  },
  {
   "cell_type": "code",
   "execution_count": null,
   "id": "75ece274-c496-435a-bb9f-a98415354eb9",
   "metadata": {},
   "outputs": [],
   "source": [
    "#Select the variables for PCA\n",
    "morpho_features = [\n",
    "    'area_x',\n",
    "    'perimeter',\n",
    "    'eccentricity',\n",
    "    'circularity',\n",
    "    'convexity',\n",
    "    'aspect_ratio',\n",
    "    'extent',\n",
    "    'solidity',]"
   ]
  },
  {
   "cell_type": "code",
   "execution_count": null,
   "id": "c1374f94-2894-4061-8ae4-9d00b8630ea5",
   "metadata": {},
   "outputs": [],
   "source": [
    "# preparing \n",
    "df_pca = epithelial_cells.obs[morpho_features + [\"senescent_final_scores_all\"]].dropna()\n",
    "X = df_pca[morpho_features].values\n",
    "y = df_pca[sen_col].values\n",
    "\n",
    "# normalisation\n",
    "X_scaled = StandardScaler().fit_transform(X)\n",
    "\n",
    "# pca\n",
    "pca = PCA(n_components=2)\n",
    "X_pca = pca.fit_transform(X_scaled)\n",
    "\n",
    "df_pca[\"PC1\"] = X_pca[:, 0]\n",
    "df_pca[\"PC2\"] = X_pca[:, 1]\n",
    "\n",
    "plt.figure(figsize=(8, 6))\n",
    "sns.scatterplot(\n",
    "    data=df_pca,\n",
    "    x=\"PC1\", y=\"PC2\",\n",
    "    hue=sen_col,\n",
    "    alpha=0.6,\n",
    "    s=10)\n",
    "\n",
    "plt.title(f\"PCA of Morphological Features\")\n",
    "plt.xlabel(f\"PC1 ({pca.explained_variance_ratio_[0]*100:.1f}% variance)\")\n",
    "plt.ylabel(f\"PC2 ({pca.explained_variance_ratio_[1]*100:.1f}% variance)\")\n",
    "plt.legend(title=\"Senescence\", loc=\"upper right\")\n",
    "plt.grid(True)\n",
    "plt.tight_layout()\n",
    "plt.savefig(f\"new_plots_copy/PCA.png\")\n",
    "plt.close()\n"
   ]
  },
  {
   "cell_type": "code",
   "execution_count": null,
   "id": "7fbcfe5f-4832-4a04-84eb-6bacc0ac9693",
   "metadata": {},
   "outputs": [],
   "source": [
    "## final_PCA: Top Contributors to PC2\n",
    "# Feature list\n",
    "features = morpho_features\n",
    "\n",
    "# loadings\n",
    "pc2_loadings = pca.components_[1]\n",
    "\n",
    "# sort the features and contribution coefficients\n",
    "pc2_contrib = pd.Series(pc2_loadings, index=features)\n",
    "pc2_contrib = pc2_contrib.sort_values(key=abs, ascending=False)\n",
    "\n",
    "print(\"Top contributors to PC2:\")\n",
    "print(pc2_contrib.head(10))"
   ]
  },
  {
   "cell_type": "markdown",
   "id": "eccf2302-5c21-4e23-a709-e40293b46053",
   "metadata": {},
   "source": [
    "## Merged sort"
   ]
  },
  {
   "cell_type": "code",
   "execution_count": null,
   "id": "50ec2cf8-537b-4a12-8342-c78859507649",
   "metadata": {},
   "outputs": [],
   "source": [
    "# write the new column in epithelial_cells.obs to adata.obs\n",
    "cols_to_merge = ['senescent_final_scores']\n",
    "\n",
    "for col in cols_to_merge:\n",
    "    adata.obs[col] = None  \n",
    "    adata.obs.loc[epithelial_cells.obs.index, col] = epithelial_cells.obs[col]"
   ]
  },
  {
   "cell_type": "code",
   "execution_count": null,
   "id": "44271715-dd3b-48d7-ac9f-92e103272dfc",
   "metadata": {},
   "outputs": [],
   "source": [
    "# create new cell type\n",
    "sen = adata.obs[\"senescent_final_scores\"].fillna(False)\n",
    "new_Celltype = adata.obs[\"broad_celltype\"].copy()\n",
    "\n",
    "if pd.api.types.is_categorical_dtype(new_Celltype):\n",
    "    new_Celltype = new_Celltype.cat.add_categories([\"epithelial\", \"epithelial_sen\"])\n",
    "\n",
    "epi = adata.obs[\"broad_celltype\"].isin([\"Collecting duct\", \"Distal tubule\", \"PT\", \"TAL/LoH\"])\n",
    "new_Celltype.loc[epi & sen] = \"epithelial_sen\"\n",
    "new_Celltype.loc[epi & ~sen] = \"epithelial\"\n",
    "\n",
    "adata.obs[\"Celltype_sen\"] = new_Celltype"
   ]
  },
  {
   "cell_type": "code",
   "execution_count": null,
   "id": "7d7aff8b-d168-44e1-9e89-a1ab8582736f",
   "metadata": {},
   "outputs": [],
   "source": [
    "# remove old cell types\n",
    "to_remove = [\"Collecting duct\", \"Distal tubule\", \"PT\", \"TAL/LoH\"]\n",
    "adata.obs[\"Celltype_sen\"] = adata.obs[\"Celltype_sen\"].cat.remove_categories(to_remove)"
   ]
  },
  {
   "cell_type": "markdown",
   "id": "7f9df556-1ea4-418e-bfeb-965ee4dd71ec",
   "metadata": {},
   "source": [
    "## spatial neighbours"
   ]
  },
  {
   "cell_type": "code",
   "execution_count": null,
   "id": "a7498bda-0ca8-4d8f-a2a2-6a68a2ade37c",
   "metadata": {},
   "outputs": [],
   "source": [
    "for tissue in adata.obs[\"source\"].unique():\n",
    "    print(f\"Processing: {tissue}\")\n",
    "    \n",
    "    adata_sub = adata[adata.obs[\"source\"] == tissue].copy()\n",
    "    small_cats = adata_sub.obs[\"Celltype_sen_all\"].value_counts()[lambda x: x < 10].index\n",
    "    # drop small cats\n",
    "    adata_sub = adata_sub[~adata_sub.obs[\"Celltype_sen_all\"].isin(small_cats)].copy()\n",
    "    \n",
    "    sq.gr.spatial_neighbors(adata_sub, coord_type=\"generic\")\n",
    "    \n",
    "    sq.gr.nhood_enrichment(adata_sub, cluster_key=\"Celltype_sen_all\")\n",
    "\n",
    "    sq.pl.nhood_enrichment(adata_sub,\n",
    "                           cluster_key=\"Celltype_sen_all\",\n",
    "                           method= None,\n",
    "                           cmap=\"coolwarm\")\n",
    "    plt.title(f\"Neighbourhood Enrichment - {tissue}\")\n",
    "    plt.savefig(f\"new_plots_copy/nhood_enrichment_{tissue}_copy.png\",bbox_inches='tight')\n",
    "    plt.close()\n",
    "\n",
    "    enrichment = adata_sub.uns[\"Celltype_sen_nhood_enrichment\"][\"zscore\"]\n",
    "    celltypes = adata_sub.obs[\"Celltype_sen\"].cat.categories\n",
    "    enrichment_df = pd.DataFrame(enrichment, index=celltypes, columns=celltypes)\n",
    "    enrichment_df.to_csv(f\"new_copy/nhood_enrichment_{tissue}.csv\")\n",
    "    "
   ]
  },
  {
   "cell_type": "code",
   "execution_count": null,
   "id": "a06bd040-17b6-456d-b3e5-b7378d74d772",
   "metadata": {},
   "outputs": [],
   "source": [
    "for tissue in adata.obs[\"source\"].unique():\n",
    "    print(f\"Processing: {tissue}\")\n",
    "\n",
    "    adata_sub = adata[adata.obs[\"source\"] == tissue].copy()\n",
    "    \n",
    "    # check small_cats\n",
    "    small_cats = adata_sub.obs[\"Celltype_sen\"].value_counts()[lambda x: x < 10].index\n",
    "    # drop small cats\n",
    "    adata_sub = adata_sub[~adata_sub.obs[\"Celltype_sen\"].isin(small_cats)].copy()\n",
    "    adata_sub.obs[\"Celltype_sen\"] = adata_sub.obs[\"Celltype_sen\"].astype(str)\n",
    "   \n",
    "    # calculate numer of senescent cells\n",
    "    num_sen = len(adata_sub[adata_sub.obs[\"Celltype_sen\"] == \"epithelial_sen\"])\n",
    "    # get rid of epithelial_sen subtype\n",
    "    adata_sub.obs[\"Celltype_sen\"] = adata_sub.obs[\"Celltype_sen\"].replace({\"epithelial_sen\": \"epithelial\" })\n",
    "    #look only at epithelial cells\n",
    "    ep_subset = adata_sub[adata_sub.obs[\"Celltype_sen\"] == \"epithelial\"]\n",
    "    #take random sample and make them \"test\" cells\n",
    "    test_index = ep_subset.obs.sample(n= num_sen, random_state = 42).index\n",
    "    \n",
    "    adata_sub.obs.loc[test_index, \"Celltype_sen\"] = \"epithelial_test\"\n",
    "    adata_sub.obs[\"Celltype_sen\"] = adata_sub.obs[\"Celltype_sen\"].astype(\"category\")\n",
    "    \n",
    "    sq.gr.spatial_neighbors(adata_sub, coord_type=\"generic\")\n",
    "\n",
    "    sq.gr.nhood_enrichment(adata_sub, cluster_key=\"Celltype_sen\")\n",
    "\n",
    "    sq.pl.nhood_enrichment(adata_sub,\n",
    "                           cluster_key=\"Celltype_sen\",\n",
    "                           method=None,\n",
    "                           cmap=\"coolwarm\")\n",
    "    plt.title(f\"Neighbourhood Enrichment - {tissue}\")\n",
    "    plt.savefig(f\"new_plots_copy/nhood_enrichment_{tissue}_random_copy.png\",bbox_inches='tight')\n",
    "    plt.close()\n",
    "    \n",
    "    enrichment = adata_sub.uns[\"Celltype_sen_nhood_enrichment\"][\"zscore\"]\n",
    "    celltypes = adata_sub.obs[\"Celltype_sen\"].cat.categories\n",
    "    enrichment_df = pd.DataFrame(enrichment, index=celltypes, columns=celltypes)\n",
    "    enrichment_df.to_csv(f\"new_copy/nhood_enrichment_{tissue}.csv\")"
   ]
  },
  {
   "cell_type": "markdown",
   "id": "9fdf2cd3-c749-4ddb-ad16-5cdceda0cf34",
   "metadata": {},
   "source": [
    "## Ligand-receptor analysis "
   ]
  },
  {
   "cell_type": "code",
   "execution_count": null,
   "id": "3438e274-7a35-496a-85a6-582ee73752e9",
   "metadata": {},
   "outputs": [],
   "source": [
    "# information about ligand-receptors\n",
    "lr = import_intercell_network(\n",
    "    transmitter_params={\"categories\": \"ligand\"},\n",
    "    receiver_params={\"categories\": \"receptor\"} )\n",
    "\n",
    "# Extract gene names\n",
    "ligands = set(lr[\"source\"])\n",
    "receptors = set(lr[\"target\"])"
   ]
  },
  {
   "cell_type": "code",
   "execution_count": null,
   "id": "c0ef55d9-7e27-4b7a-b391-0ae55bf64f03",
   "metadata": {},
   "outputs": [],
   "source": [
    "# Mark to adata\n",
    "adata.var[\"categories\"] = None\n",
    "adata.var.loc[adata.var_names.isin(ligands), \"categories\"] = \"ligand\"\n",
    "adata.var.loc[adata.var_names.isin(receptors), \"categories\"] = adata.var[\"categories\"].fillna(\"receptor\")"
   ]
  },
  {
   "cell_type": "code",
   "execution_count": null,
   "id": "1fb14998-f7de-46bd-85ba-6300e9d86ad8",
   "metadata": {},
   "outputs": [],
   "source": [
    "res = sq.gr.ligrec(\n",
    "    adata,\n",
    "    n_perms=1000,\n",
    "    cluster_key=\"Celltype_sen\",\n",
    "    copy=True,\n",
    "    use_raw=False,\n",
    "    corr_method=\"fdr_bh\",\n",
    "    transmitter_params={\"categories\": \"ligand\"},\n",
    "    receiver_params={\"categories\": \"receptor\"},\n",
    ")\n",
    "\n",
    "#Save\n",
    "res[\"means\"].to_csv(\"new_copy/ligrec_means.csv\")\n",
    "res[\"pvalues\"].to_csv(\"new_copy/ligrec_pvalues.csv\")\n",
    "res[\"metadata\"].to_csv(\"new_copy/ligrec_metadata.csv\", index=False)"
   ]
  },
  {
   "cell_type": "markdown",
   "id": "324cc35f-bcc0-4d6f-9db2-d4a74a23210a",
   "metadata": {},
   "source": [
    "#### All Paris"
   ]
  },
  {
   "cell_type": "code",
   "execution_count": null,
   "id": "90a4de93-51c2-4a9d-b106-053161d820f4",
   "metadata": {},
   "outputs": [],
   "source": [
    "expr = res[\"means\"][\"epithelial_sen\"]\n",
    "pval = res[\"pvalues\"][\"epithelial_sen\"]\n",
    "\n",
    "# Combined conditions\n",
    "combined_mask = (expr > 1.0) & (pval < 0.05)\n",
    "\n",
    "#  filtered pairing index\n",
    "selected_pairs = expr[combined_mask].index.tolist()\n",
    "\n",
    "res_sub = {\n",
    "    \"means\": means.loc[selected_pairs],\n",
    "    \"pvalues\": pvalues.loc[selected_pairs],\n",
    "}\n",
    "\n",
    "sq.pl.ligrec(res_sub, source_groups=\"epithelial_sen\")\n",
    "plt.savefig(f\"new_plots_copy/All_Receptor-ligand_sen.png\",bbox_inches='tight')\n",
    "plt.close()\n",
    "\n",
    "sq.pl.ligrec(res_sub, source_groups=\"epithelial\")\n",
    "plt.savefig(f\"new_plots_copy/All_Receptor-ligand_non.png\",bbox_inches='tight')\n",
    "plt.close()"
   ]
  },
  {
   "cell_type": "markdown",
   "id": "8269a3ff-9052-4f99-9a4a-c3569d21571c",
   "metadata": {},
   "source": [
    "#### Max"
   ]
  },
  {
   "cell_type": "code",
   "execution_count": null,
   "id": "6c20d241-de50-4a64-ad5b-540e1a9c0723",
   "metadata": {},
   "outputs": [],
   "source": [
    "# conditions of both max and mean \n",
    "top_expr = expr[(expr.max(axis=1) > 1) & (expr.mean(axis=1) > 0)]\n",
    "\n",
    "top_pairs = top_expr.head(80).index.tolist()\n",
    "\n",
    "# result dict\n",
    "res_top = {\n",
    "    \"means\":res[\"means\"].loc[top_pairs],\n",
    "    \"pvalues\": res[\"pvalues\"].loc[top_pairs],\n",
    "}\n",
    "\n",
    "sq.pl.ligrec(res_top, source_groups=\"epithelial_sen\")\n",
    "plt.savefig(f\"new_plots_copy/Max_Receptor-ligand_sen_top80.png\")\n",
    "plt.close()\n",
    "\n",
    "sq.pl.ligrec(res_top, source_groups=\"epithelial\")\n",
    "plt.savefig(f\"new_plots_copy/Max_Receptor-ligand_non_top80.png\")\n",
    "plt.close()"
   ]
  }
 ],
 "metadata": {
  "kernelspec": {
   "display_name": "Python 3 (ipykernel)",
   "language": "python",
   "name": "python3"
  },
  "language_info": {
   "codemirror_mode": {
    "name": "ipython",
    "version": 3
   },
   "file_extension": ".py",
   "mimetype": "text/x-python",
   "name": "python",
   "nbconvert_exporter": "python",
   "pygments_lexer": "ipython3",
   "version": "3.10.16"
  }
 },
 "nbformat": 4,
 "nbformat_minor": 5
}
